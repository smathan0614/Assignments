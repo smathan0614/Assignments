{
 "cells": [
  {
   "cell_type": "markdown",
   "metadata": {},
   "source": [
    "# Task 1"
   ]
  },
  {
   "cell_type": "markdown",
   "metadata": {},
   "source": [
    "# 1.1 Write a Python Program to implement your own myreduce() function which works exactly like Python's built-in function reduce()"
   ]
  },
  {
   "cell_type": "code",
   "execution_count": 158,
   "metadata": {
    "scrolled": true
   },
   "outputs": [
    {
     "name": "stdout",
     "output_type": "stream",
     "text": [
      "onetwothree\n",
      "6\n"
     ]
    }
   ],
   "source": [
    "def myreduce(fn, cntArg):\n",
    "    a = iter(cntArg)\n",
    "    b = next(a)\n",
    "    for i in a:\n",
    "        b = fn(b,i)\n",
    "    return b\n",
    "\n",
    "lst1 =('one','two','three')\n",
    "lst2 = [1,2,3]\n",
    "strReduce = myreduce(lambda a,b: a+b,lst1)\n",
    "print(strReduce)\n",
    "intReduce = myreduce(lambda a,b: a+b,lst2)\n",
    "print(intReduce)"
   ]
  },
  {
   "cell_type": "markdown",
   "metadata": {},
   "source": [
    "# 1.2 Write a Python program to implement your own myfilter() function which works exactly like Python's built-in function filter()"
   ]
  },
  {
   "cell_type": "code",
   "execution_count": 174,
   "metadata": {},
   "outputs": [
    {
     "name": "stdout",
     "output_type": "stream",
     "text": [
      "[2, 4, 6, 8]\n"
     ]
    }
   ],
   "source": [
    "#MY FILTER FUNCTION\n",
    "def myfilter(fn, cntArg):\n",
    "    for i in cntArg:\n",
    "        if(fn(i) != True):\n",
    "            cntArg.remove(i)\n",
    "    return cntArg\n",
    "\n",
    "# FUNCTION TO CHCECK EVEN NUMBER\n",
    "def even_check(num):\n",
    "    if num%2 == 0:\n",
    "        return True\n",
    "    \n",
    "lst = [1,2,3,4,5,6,7,8]\n",
    "print(list(myfilter(even_check,lst)))"
   ]
  },
  {
   "cell_type": "markdown",
   "metadata": {},
   "source": [
    "# 2. Implement List comprehensions to produce the following lists. Write List comprehensions to produce the following Lists"
   ]
  },
  {
   "cell_type": "code",
   "execution_count": 167,
   "metadata": {},
   "outputs": [
    {
     "name": "stdout",
     "output_type": "stream",
     "text": [
      "['A', 'C', 'A', 'D', 'G', 'I', 'L', 'D']\n",
      "['x', 'xx', 'xxx', 'xxxx', 'y', 'yy', 'yyy', 'yyyy', 'z', 'zz', 'zzz', 'zzzz']\n",
      "['x', 'y', 'z', 'xx', 'yy', 'zz', 'xxx', 'yyy', 'zzz', 'xxxx', 'yyyy', 'zzzz']\n",
      "[[2], [3], [4], [3], [4], [5], [4], [5], [6]]\n",
      "[[2, 3, 4, 5], [3, 4, 5, 6], [4, 5, 6, 7], [5, 6, 7, 8]]\n",
      "[(1, 1), (2, 1), (3, 1), (1, 2), (2, 2), (3, 2), (1, 3), (2, 3), (3, 3)]\n"
     ]
    }
   ],
   "source": [
    "##\n",
    "word = \"ACADGILD\"\n",
    "alphabet_list = [ alphabet for alphabet in word ]\n",
    "print(alphabet_list)\n",
    "\n",
    "##\n",
    "input_list = ['x','y','z']\n",
    "result = [ item*num for item in input_list for num in range(1,5)  ]\n",
    "print(result)\n",
    "\n",
    "##\n",
    "input_list = ['x','y','z']\n",
    "result = [ item*num for num in range(1,5) for item in input_list  ]\n",
    "print(str(result))\n",
    "\n",
    "##\n",
    "input_list = [2,3,4]\n",
    "result = [ [item+num] for item in input_list for num in range(0,3)]\n",
    "print(str(result))\n",
    "\n",
    "##\n",
    "input_list = [2,3,4,5]\n",
    "result = [ [item+num for item in input_list] for num in range(0,4)  ]\n",
    "print(str(result))\n",
    "\n",
    "##\n",
    "input_list=[1,2,3]\n",
    "result = [ (b,a) for a in input_list for b in input_list]\n",
    "print(str(result))"
   ]
  },
  {
   "cell_type": "markdown",
   "metadata": {},
   "source": [
    "# 3. Implement a function longestWord() that takes a list of words and returns the longest one."
   ]
  },
  {
   "cell_type": "code",
   "execution_count": 161,
   "metadata": {
    "scrolled": true
   },
   "outputs": [
    {
     "name": "stdout",
     "output_type": "stream",
     "text": [
      "['hello hi howdy mate']\n"
     ]
    }
   ],
   "source": [
    "### LONGEST WORD\n",
    "\n",
    "def longestWord(l):\n",
    "    lngstWrd = [wrd for wrd in l if len(wrd) == max([len(word) for word in l])]\n",
    "    print(str(lngstWrd))\n",
    "                \n",
    "l = ['hi', 'hello', 'howdyy','djkgaflkgsfa','hello hi howdy mate']\n",
    "longestWord(l)"
   ]
  },
  {
   "cell_type": "markdown",
   "metadata": {},
   "source": [
    "# Task 2"
   ]
  },
  {
   "cell_type": "markdown",
   "metadata": {},
   "source": [
    "# 1.1 Write a Python Program(with class concepts) to find the area of the triangle using the below formula.\n",
    "area = (s*(s-a)*(s-b)*(s-c)) ** 0.5"
   ]
  },
  {
   "cell_type": "code",
   "execution_count": 163,
   "metadata": {
    "scrolled": true
   },
   "outputs": [
    {
     "name": "stdout",
     "output_type": "stream",
     "text": [
      "Enter first side: 34\n",
      "Enter second side: 34\n",
      "Enter third side: 65\n",
      "The area of the triangle is 324.59\n"
     ]
    }
   ],
   "source": [
    "##### SUPER CLASS\n",
    "class AreaOfTriangle:\n",
    "    def __init__(self, sideA, sideB, sideC):\n",
    "        self.sideA = sideA\n",
    "        self.sideB = sideB\n",
    "        self.sideC = sideC\n",
    "    \n",
    "    ## METHOD TO GET INPUTS FROM USER AND ASSIGN IT TO INIT VARIABLES\n",
    "    @classmethod\n",
    "    def userInputs(self):\n",
    "        sideA = float(input('Enter first side: '))\n",
    "        sideB = float(input('Enter second side: '))\n",
    "        sideC = float(input('Enter third side: '))\n",
    "        return self(sideA, sideB, sideC)\n",
    "\n",
    "##### SUB CLASS\n",
    "class CalculateArea(AreaOfTriangle):\n",
    "        def __init__(self, *args):\n",
    "            super(CalculateArea, self).__init__(*args)\n",
    " \n",
    "        ## METHOD TO CALCULATE THE AREA OF TRIANGLE\n",
    "        def calc(self, a, b, c):\n",
    "            s = (a + b + c) / 2\n",
    "            area = (s*(s-a)*(s-b)*(s-c)) ** 0.5\n",
    "            print('The area of the triangle is %0.2f' % area)\n",
    "\n",
    "Triangle = CalculateArea.userInputs()\n",
    "Triangle.calc(Triangle.sideA, Triangle.sideB, Triangle.sideC)"
   ]
  },
  {
   "cell_type": "markdown",
   "metadata": {},
   "source": [
    "# 1.2  Write a function filter_long_words() that takes a list of words and an integer n and returns the list of words that are longer than n."
   ]
  },
  {
   "cell_type": "code",
   "execution_count": 164,
   "metadata": {},
   "outputs": [
    {
     "name": "stdout",
     "output_type": "stream",
     "text": [
      "['howdyy', 'djkgaflkgsfa', 'hello hi howdy mate']\n"
     ]
    }
   ],
   "source": [
    "def listOfLongestWord(l, n):\n",
    "    lngstWrd = [wrd for wrd in l if len(wrd) > n]\n",
    "    print(lngstWrd)\n",
    "                \n",
    "l = ['hi', 'hello', 'howdyy','djkgaflkgsfa','hello hi howdy mate']\n",
    "listOfLongestWord(l, 5)"
   ]
  },
  {
   "cell_type": "markdown",
   "metadata": {},
   "source": [
    "# 2.1 Write a Python program using function concept that maps list of words into a list of integers representing the lengths of the corresponding words​."
   ]
  },
  {
   "cell_type": "code",
   "execution_count": 165,
   "metadata": {},
   "outputs": [
    {
     "name": "stdout",
     "output_type": "stream",
     "text": [
      "[2, 3, 4]\n"
     ]
    }
   ],
   "source": [
    "def listOfWordLen(l):\n",
    "    lngstWrd = [len(wrd) for wrd in l]\n",
    "    print(lngstWrd)\n",
    "                \n",
    "l = ['ab','cde','erty']\n",
    "listOfWordLen(l)"
   ]
  },
  {
   "cell_type": "markdown",
   "metadata": {},
   "source": [
    "# 2.2 Write a Python function which takes a character (i.e. a string of length 1) and returns True if it is a vowel, False otherwise."
   ]
  },
  {
   "cell_type": "code",
   "execution_count": 166,
   "metadata": {},
   "outputs": [
    {
     "name": "stdout",
     "output_type": "stream",
     "text": [
      "True\n",
      "False\n",
      "Invalid string\n",
      "False\n"
     ]
    }
   ],
   "source": [
    "def identifyVowel(char):\n",
    "    vowels = ['a','e','i','o','u']\n",
    "    for v in vowels:\n",
    "        if(len(char) != 1):\n",
    "            print(\"Invalid string\") \n",
    "            return False\n",
    "        elif(char == v):\n",
    "             return True\n",
    "        else:\n",
    "            return False\n",
    "\n",
    "print(identifyVowel('a'))\n",
    "print(identifyVowel('b'))\n",
    "print(identifyVowel('fd'))"
   ]
  },
  {
   "cell_type": "code",
   "execution_count": null,
   "metadata": {},
   "outputs": [],
   "source": []
  }
 ],
 "metadata": {
  "kernelspec": {
   "display_name": "Python 3",
   "language": "python",
   "name": "python3"
  },
  "language_info": {
   "codemirror_mode": {
    "name": "ipython",
    "version": 3
   },
   "file_extension": ".py",
   "mimetype": "text/x-python",
   "name": "python",
   "nbconvert_exporter": "python",
   "pygments_lexer": "ipython3",
   "version": "3.7.4"
  }
 },
 "nbformat": 4,
 "nbformat_minor": 2
}
